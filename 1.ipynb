{
 "cells": [
  {
   "cell_type": "code",
   "execution_count": 1,
   "id": "0e9966bc-5d9f-4f3f-9c25-9542aef31352",
   "metadata": {},
   "outputs": [],
   "source": [
    "import pandas as pd\n",
    "import seaborn as sns\n",
    "import numpy as np\n",
    "import matplotlib.pyplot as plt\n",
    "import warnings\n",
    "warnings.filterwarnings('ignore')"
   ]
  },
  {
   "cell_type": "code",
   "execution_count": 2,
   "id": "ba60d2c2-883a-4d22-8c84-8380c42be156",
   "metadata": {},
   "outputs": [
    {
     "data": {
      "text/html": [
       "<div>\n",
       "<style scoped>\n",
       "    .dataframe tbody tr th:only-of-type {\n",
       "        vertical-align: middle;\n",
       "    }\n",
       "\n",
       "    .dataframe tbody tr th {\n",
       "        vertical-align: top;\n",
       "    }\n",
       "\n",
       "    .dataframe thead th {\n",
       "        text-align: right;\n",
       "    }\n",
       "</style>\n",
       "<table border=\"1\" class=\"dataframe\">\n",
       "  <thead>\n",
       "    <tr style=\"text-align: right;\">\n",
       "      <th></th>\n",
       "      <th>age</th>\n",
       "      <th>anaemia</th>\n",
       "      <th>creatinine_phosphokinase</th>\n",
       "      <th>diabetes</th>\n",
       "      <th>ejection_fraction</th>\n",
       "      <th>high_blood_pressure</th>\n",
       "      <th>platelets</th>\n",
       "      <th>serum_creatinine</th>\n",
       "      <th>serum_sodium</th>\n",
       "      <th>sex</th>\n",
       "      <th>smoking</th>\n",
       "      <th>time</th>\n",
       "      <th>DEATH_EVENT</th>\n",
       "    </tr>\n",
       "  </thead>\n",
       "  <tbody>\n",
       "    <tr>\n",
       "      <th>0</th>\n",
       "      <td>75.0</td>\n",
       "      <td>0</td>\n",
       "      <td>582</td>\n",
       "      <td>0</td>\n",
       "      <td>20</td>\n",
       "      <td>1</td>\n",
       "      <td>265000.00</td>\n",
       "      <td>1.9</td>\n",
       "      <td>130</td>\n",
       "      <td>1</td>\n",
       "      <td>0</td>\n",
       "      <td>4</td>\n",
       "      <td>1</td>\n",
       "    </tr>\n",
       "    <tr>\n",
       "      <th>1</th>\n",
       "      <td>55.0</td>\n",
       "      <td>0</td>\n",
       "      <td>7861</td>\n",
       "      <td>0</td>\n",
       "      <td>38</td>\n",
       "      <td>0</td>\n",
       "      <td>263358.03</td>\n",
       "      <td>1.1</td>\n",
       "      <td>136</td>\n",
       "      <td>1</td>\n",
       "      <td>0</td>\n",
       "      <td>6</td>\n",
       "      <td>1</td>\n",
       "    </tr>\n",
       "    <tr>\n",
       "      <th>2</th>\n",
       "      <td>65.0</td>\n",
       "      <td>0</td>\n",
       "      <td>146</td>\n",
       "      <td>0</td>\n",
       "      <td>20</td>\n",
       "      <td>0</td>\n",
       "      <td>162000.00</td>\n",
       "      <td>1.3</td>\n",
       "      <td>129</td>\n",
       "      <td>1</td>\n",
       "      <td>1</td>\n",
       "      <td>7</td>\n",
       "      <td>1</td>\n",
       "    </tr>\n",
       "    <tr>\n",
       "      <th>3</th>\n",
       "      <td>50.0</td>\n",
       "      <td>1</td>\n",
       "      <td>111</td>\n",
       "      <td>0</td>\n",
       "      <td>20</td>\n",
       "      <td>0</td>\n",
       "      <td>210000.00</td>\n",
       "      <td>1.9</td>\n",
       "      <td>137</td>\n",
       "      <td>1</td>\n",
       "      <td>0</td>\n",
       "      <td>7</td>\n",
       "      <td>1</td>\n",
       "    </tr>\n",
       "    <tr>\n",
       "      <th>4</th>\n",
       "      <td>65.0</td>\n",
       "      <td>1</td>\n",
       "      <td>160</td>\n",
       "      <td>1</td>\n",
       "      <td>20</td>\n",
       "      <td>0</td>\n",
       "      <td>327000.00</td>\n",
       "      <td>2.7</td>\n",
       "      <td>116</td>\n",
       "      <td>0</td>\n",
       "      <td>0</td>\n",
       "      <td>8</td>\n",
       "      <td>1</td>\n",
       "    </tr>\n",
       "    <tr>\n",
       "      <th>...</th>\n",
       "      <td>...</td>\n",
       "      <td>...</td>\n",
       "      <td>...</td>\n",
       "      <td>...</td>\n",
       "      <td>...</td>\n",
       "      <td>...</td>\n",
       "      <td>...</td>\n",
       "      <td>...</td>\n",
       "      <td>...</td>\n",
       "      <td>...</td>\n",
       "      <td>...</td>\n",
       "      <td>...</td>\n",
       "      <td>...</td>\n",
       "    </tr>\n",
       "    <tr>\n",
       "      <th>294</th>\n",
       "      <td>62.0</td>\n",
       "      <td>0</td>\n",
       "      <td>61</td>\n",
       "      <td>1</td>\n",
       "      <td>38</td>\n",
       "      <td>1</td>\n",
       "      <td>155000.00</td>\n",
       "      <td>1.1</td>\n",
       "      <td>143</td>\n",
       "      <td>1</td>\n",
       "      <td>1</td>\n",
       "      <td>270</td>\n",
       "      <td>0</td>\n",
       "    </tr>\n",
       "    <tr>\n",
       "      <th>295</th>\n",
       "      <td>55.0</td>\n",
       "      <td>0</td>\n",
       "      <td>1820</td>\n",
       "      <td>0</td>\n",
       "      <td>38</td>\n",
       "      <td>0</td>\n",
       "      <td>270000.00</td>\n",
       "      <td>1.2</td>\n",
       "      <td>139</td>\n",
       "      <td>0</td>\n",
       "      <td>0</td>\n",
       "      <td>271</td>\n",
       "      <td>0</td>\n",
       "    </tr>\n",
       "    <tr>\n",
       "      <th>296</th>\n",
       "      <td>45.0</td>\n",
       "      <td>0</td>\n",
       "      <td>2060</td>\n",
       "      <td>1</td>\n",
       "      <td>60</td>\n",
       "      <td>0</td>\n",
       "      <td>742000.00</td>\n",
       "      <td>0.8</td>\n",
       "      <td>138</td>\n",
       "      <td>0</td>\n",
       "      <td>0</td>\n",
       "      <td>278</td>\n",
       "      <td>0</td>\n",
       "    </tr>\n",
       "    <tr>\n",
       "      <th>297</th>\n",
       "      <td>45.0</td>\n",
       "      <td>0</td>\n",
       "      <td>2413</td>\n",
       "      <td>0</td>\n",
       "      <td>38</td>\n",
       "      <td>0</td>\n",
       "      <td>140000.00</td>\n",
       "      <td>1.4</td>\n",
       "      <td>140</td>\n",
       "      <td>1</td>\n",
       "      <td>1</td>\n",
       "      <td>280</td>\n",
       "      <td>0</td>\n",
       "    </tr>\n",
       "    <tr>\n",
       "      <th>298</th>\n",
       "      <td>50.0</td>\n",
       "      <td>0</td>\n",
       "      <td>196</td>\n",
       "      <td>0</td>\n",
       "      <td>45</td>\n",
       "      <td>0</td>\n",
       "      <td>395000.00</td>\n",
       "      <td>1.6</td>\n",
       "      <td>136</td>\n",
       "      <td>1</td>\n",
       "      <td>1</td>\n",
       "      <td>285</td>\n",
       "      <td>0</td>\n",
       "    </tr>\n",
       "  </tbody>\n",
       "</table>\n",
       "<p>299 rows × 13 columns</p>\n",
       "</div>"
      ],
      "text/plain": [
       "      age  anaemia  creatinine_phosphokinase  diabetes  ejection_fraction  \\\n",
       "0    75.0        0                       582         0                 20   \n",
       "1    55.0        0                      7861         0                 38   \n",
       "2    65.0        0                       146         0                 20   \n",
       "3    50.0        1                       111         0                 20   \n",
       "4    65.0        1                       160         1                 20   \n",
       "..    ...      ...                       ...       ...                ...   \n",
       "294  62.0        0                        61         1                 38   \n",
       "295  55.0        0                      1820         0                 38   \n",
       "296  45.0        0                      2060         1                 60   \n",
       "297  45.0        0                      2413         0                 38   \n",
       "298  50.0        0                       196         0                 45   \n",
       "\n",
       "     high_blood_pressure  platelets  serum_creatinine  serum_sodium  sex  \\\n",
       "0                      1  265000.00               1.9           130    1   \n",
       "1                      0  263358.03               1.1           136    1   \n",
       "2                      0  162000.00               1.3           129    1   \n",
       "3                      0  210000.00               1.9           137    1   \n",
       "4                      0  327000.00               2.7           116    0   \n",
       "..                   ...        ...               ...           ...  ...   \n",
       "294                    1  155000.00               1.1           143    1   \n",
       "295                    0  270000.00               1.2           139    0   \n",
       "296                    0  742000.00               0.8           138    0   \n",
       "297                    0  140000.00               1.4           140    1   \n",
       "298                    0  395000.00               1.6           136    1   \n",
       "\n",
       "     smoking  time  DEATH_EVENT  \n",
       "0          0     4            1  \n",
       "1          0     6            1  \n",
       "2          1     7            1  \n",
       "3          0     7            1  \n",
       "4          0     8            1  \n",
       "..       ...   ...          ...  \n",
       "294        1   270            0  \n",
       "295        0   271            0  \n",
       "296        0   278            0  \n",
       "297        1   280            0  \n",
       "298        1   285            0  \n",
       "\n",
       "[299 rows x 13 columns]"
      ]
     },
     "execution_count": 2,
     "metadata": {},
     "output_type": "execute_result"
    }
   ],
   "source": [
    "data = pd.read_csv('heart.csv')\n",
    "data"
   ]
  },
  {
   "cell_type": "code",
   "execution_count": 3,
   "id": "a186767f-b2b9-470f-958c-49b356fa432d",
   "metadata": {},
   "outputs": [
    {
     "data": {
      "text/plain": [
       "<Axes: ylabel='Frequency'>"
      ]
     },
     "execution_count": 3,
     "metadata": {},
     "output_type": "execute_result"
    },
    {
     "data": {
      "image/png": "[encoded data removed]",
      "text/plain": [
       "<Figure size 640x480 with 1 Axes>"
      ]
     },
     "metadata": {},
     "output_type": "display_data"
    }
   ],
   "source": [
    "# 1  What is the distribution of age among heart failure patients in the dataset\n",
    "data['age'].plot(kind = 'hist')"
   ]
  },
  {
   "cell_type": "code",
   "execution_count": 4,
   "id": "35f981ce-73d7-431c-8420-ee257ef4e0c4",
   "metadata": {},
   "outputs": [],
   "source": [
    "# 2  ´ How does the death rate vary with age"
   ]
  },
  {
   "cell_type": "code",
   "execution_count": 5,
   "id": "491a2d19-30cd-4ece-a7db-11afe8348686",
   "metadata": {},
   "outputs": [
    {
     "data": {
      "text/plain": [
       "0.2537285430880036"
      ]
     },
     "execution_count": 5,
     "metadata": {},
     "output_type": "execute_result"
    }
   ],
   "source": [
    "data['DEATH_EVENT'].corr(data['age'])"
   ]
  },
  {
   "cell_type": "code",
   "execution_count": 6,
   "id": "2626895b-e01d-44b6-9ca4-238f36d13c76",
   "metadata": {},
   "outputs": [
    {
     "data": {
      "text/plain": [
       "sex\n",
       "1    64.882943\n",
       "0    35.117057\n",
       "Name: proportion, dtype: float64"
      ]
     },
     "execution_count": 6,
     "metadata": {},
     "output_type": "execute_result"
    }
   ],
   "source": [
    "# 3  What is the percentage of male and female patients in the dataset\n",
    "data['sex'].value_counts(normalize=True) * 100"
   ]
  },
  {
   "cell_type": "markdown",
   "id": "2418d3e4-86b3-4ca6-a593-56ede4e5b860",
   "metadata": {},
   "source": [
    "![My Picture](picture1.png)\n"
   ]
  },
  {
   "cell_type": "code",
   "execution_count": 8,
   "id": "41863ae8-ca42-4286-8f0a-2a7e126c3c47",
   "metadata": {},
   "outputs": [
    {
     "name": "stdout",
     "output_type": "stream",
     "text": [
      "age\n",
      "40.000    262428.571429\n",
      "41.000    374000.000000\n",
      "42.000    244051.147143\n",
      "43.000    237000.000000\n",
      "44.000    249179.015000\n",
      "45.000    331300.845263\n",
      "46.000    294119.343333\n",
      "47.000    130000.000000\n",
      "48.000    165500.000000\n",
      "49.000    286500.000000\n",
      "50.000    257939.186296\n",
      "51.000    290339.507500\n",
      "52.000    307200.000000\n",
      "53.000    291135.803000\n",
      "54.000    207500.000000\n",
      "55.000    272239.652353\n",
      "56.000    133000.000000\n",
      "57.000    288000.000000\n",
      "58.000    245000.000000\n",
      "59.000    238750.000000\n",
      "60.000    249536.850303\n",
      "60.667    295000.000000\n",
      "61.000    231250.000000\n",
      "62.000    231200.000000\n",
      "63.000    255125.000000\n",
      "64.000    265666.666667\n",
      "65.000    257387.465000\n",
      "66.000    202000.000000\n",
      "67.000    239179.015000\n",
      "68.000    247800.000000\n",
      "69.000    199666.666667\n",
      "70.000    258858.321200\n",
      "72.000    316285.714286\n",
      "73.000    211589.507500\n",
      "75.000    254097.644545\n",
      "77.000    314500.000000\n",
      "78.000    379000.000000\n",
      "79.000    172000.000000\n",
      "80.000    233051.147143\n",
      "81.000    231000.000000\n",
      "82.000    189333.333333\n",
      "85.000    306166.666667\n",
      "86.000    263358.030000\n",
      "87.000    262000.000000\n",
      "90.000    273333.333333\n",
      "94.000    263358.030000\n",
      "95.000    328500.000000\n",
      "Name: platelets, dtype: float64\n"
     ]
    }
   ],
   "source": [
    "# 4\n",
    "platelet_by_age_group = data.groupby('age')['platelets'].mean()\n",
    "print(platelet_by_age_group)"
   ]
  },
  {
   "cell_type": "code",
   "execution_count": 11,
   "id": "7f8c3eeb-6d6e-4f4a-b555-1a07fb1ea73b",
   "metadata": {},
   "outputs": [
    {
     "name": "stdout",
     "output_type": "stream",
     "text": [
      "Correlation between serum creatinine and sodium levels: -0.19\n"
     ]
    }
   ],
   "source": [
    "# 5 \n",
    "\n",
    "# Calculate the Pearson correlation coefficient between serum creatinine and sodium levels\n",
    "correlation = data['serum_creatinine'].corr(data['serum_sodium'])\n",
    "print(f\"Correlation between serum creatinine and sodium levels: {correlation:.2f}\")\n"
   ]
  },
  {
   "cell_type": "code",
   "execution_count": 12,
   "id": "f93da8af-7e47-4d90-a5cb-88c36fe56e39",
   "metadata": {},
   "outputs": [
    {
     "name": "stdout",
     "output_type": "stream",
     "text": [
      "sex\n",
      "0    41.904762\n",
      "1    31.443299\n",
      "Name: high_blood_pressure, dtype: float64\n"
     ]
    }
   ],
   "source": [
    "# 6\n",
    "\n",
    "# Calculate the percentage of patients with high blood pressure by gender\n",
    "high_bp_by_gender = data.groupby('sex')['high_blood_pressure'].mean() * 100\n",
    "print(high_bp_by_gender)\n"
   ]
  },
  {
   "cell_type": "code",
   "execution_count": 14,
   "id": "cc5e2fd5-93dc-49f1-92aa-96b2a6ca83aa",
   "metadata": {},
   "outputs": [
    {
     "name": "stdout",
     "output_type": "stream",
     "text": [
      "Percentage of death events by smoking status:\n",
      "smoking\n",
      "0    32.512315\n",
      "1    31.250000\n",
      "Name: DEATH_EVENT, dtype: float64\n"
     ]
    }
   ],
   "source": [
    "# 7\n",
    "smoking_impact = data.groupby('smoking')['DEATH_EVENT'].mean() * 100\n",
    "print(\"Percentage of death events by smoking status:\")\n",
    "print(smoking_impact)"
   ]
  },
  {
   "cell_type": "code",
   "execution_count": 16,
   "id": "f820180b-6565-4af5-a988-25a063902c59",
   "metadata": {},
   "outputs": [
    {
     "name": "stdout",
     "output_type": "stream",
     "text": [
      "Percentage of death events by age group:\n",
      "age\n",
      "40.000      0.000000\n",
      "41.000      0.000000\n",
      "42.000     14.285714\n",
      "43.000      0.000000\n",
      "44.000      0.000000\n",
      "45.000     31.578947\n",
      "46.000     33.333333\n",
      "47.000      0.000000\n",
      "48.000    100.000000\n",
      "49.000     25.000000\n",
      "50.000     29.629630\n",
      "51.000     25.000000\n",
      "52.000      0.000000\n",
      "53.000     10.000000\n",
      "54.000     50.000000\n",
      "55.000     17.647059\n",
      "56.000      0.000000\n",
      "57.000     50.000000\n",
      "58.000     20.000000\n",
      "59.000     75.000000\n",
      "60.000     39.393939\n",
      "60.667     50.000000\n",
      "61.000      0.000000\n",
      "62.000     20.000000\n",
      "63.000      0.000000\n",
      "64.000      0.000000\n",
      "65.000     30.769231\n",
      "66.000      0.000000\n",
      "67.000      0.000000\n",
      "68.000     40.000000\n",
      "69.000     66.666667\n",
      "70.000     28.000000\n",
      "72.000     71.428571\n",
      "73.000     25.000000\n",
      "75.000     54.545455\n",
      "77.000     50.000000\n",
      "78.000      0.000000\n",
      "79.000      0.000000\n",
      "80.000     71.428571\n",
      "81.000      0.000000\n",
      "82.000    100.000000\n",
      "85.000     50.000000\n",
      "86.000    100.000000\n",
      "87.000    100.000000\n",
      "90.000     66.666667\n",
      "94.000    100.000000\n",
      "95.000    100.000000\n",
      "Name: DEATH_EVENT, dtype: float64\n"
     ]
    }
   ],
   "source": [
    "# 8\n",
    "# Calculate the percentage of death events in each age group\n",
    "death_events_by_age_group = data.groupby('age')['DEATH_EVENT'].mean() * 100\n",
    "print(\"Percentage of death events by age group:\")\n",
    "print(death_events_by_age_group)\n"
   ]
  },
  {
   "cell_type": "code",
   "execution_count": 19,
   "id": "9aff0a42-8d66-46f3-9866-98522ce656fb",
   "metadata": {},
   "outputs": [
    {
     "name": "stdout",
     "output_type": "stream",
     "text": [
      "T-test results for ejection fraction (with vs without diabetes): t-statistic = -0.08, p-value = 0.93\n"
     ]
    }
   ],
   "source": [
    "# 9\n",
    "\n",
    "from scipy.stats import ttest_ind\n",
    "\n",
    "# Split the data into groups based on diabetes status\n",
    "with_diabetes = data[data['diabetes'] == 1]['ejection_fraction']\n",
    "without_diabetes = data[data['diabetes'] == 0]['ejection_fraction']\n",
    "\n",
    "# Perform a t-test to compare the mean ejection fraction\n",
    "t_stat, p_val = ttest_ind(with_diabetes, without_diabetes)\n",
    "print(f\"T-test results for ejection fraction (with vs without diabetes): t-statistic = {t_stat:.2f}, p-value = {p_val:.2f}\")\n"
   ]
  },
  {
   "cell_type": "code",
   "execution_count": 20,
   "id": "2e9b38f4-c3b2-46a4-a7cd-6e3dfdd7ffba",
   "metadata": {},
   "outputs": [
    {
     "name": "stdout",
     "output_type": "stream",
     "text": [
      "T-test results for serum creatinine (survived vs not survived): t-statistic = -5.31, p-value = 0.00\n"
     ]
    }
   ],
   "source": [
    "# 10\n",
    "\n",
    "# Split the data into groups based on survival (DEATH_EVENT)\n",
    "survived = data[data['DEATH_EVENT'] == 0]['serum_creatinine']\n",
    "not_survived = data[data['DEATH_EVENT'] == 1]['serum_creatinine']\n",
    "\n",
    "# Perform a t-test to compare the mean serum creatinine levels\n",
    "t_stat, p_val = ttest_ind(survived, not_survived)\n",
    "print(f\"T-test results for serum creatinine (survived vs not survived): t-statistic = {t_stat:.2f}, p-value = {p_val:.2f}\")\n"
   ]
  },
  {
   "cell_type": "code",
   "execution_count": null,
   "id": "9f90384c-9d95-4867-80a9-9f1df2306e1a",
   "metadata": {},
   "outputs": [],
   "source": []
  }
 ],
 "metadata": {
  "kernelspec": {
   "display_name": "Python 3 (ipykernel)",
   "language": "python",
   "name": "python3"
  },
  "language_info": {
   "codemirror_mode": {
    "name": "ipython",
    "version": 3
   },
   "file_extension": ".py",
   "mimetype": "text/x-python",
   "name": "python",
   "nbconvert_exporter": "python",
   "pygments_lexer": "ipython3",
   "version": "3.11.7"
  }
 },
 "nbformat": 4,
 "nbformat_minor": 5
}
